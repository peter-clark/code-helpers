{
 "cells": [
  {
   "cell_type": "markdown",
   "metadata": {},
   "source": [
    "### Problem Set ###\n",
    "https://leetcode.com/studyplan/leetcode-75/"
   ]
  },
  {
   "cell_type": "markdown",
   "metadata": {},
   "source": [
    "You are given an integer array height of length n. There are n vertical lines drawn such that the two endpoints of the ith line are (i, 0) and (i, height[i]).\n",
    "\n",
    "Find two lines that together with the x-axis form a container, such that the container contains the most water.\n",
    "\n",
    "Return the maximum amount of water a container can store."
   ]
  },
  {
   "cell_type": "code",
   "execution_count": 8,
   "metadata": {},
   "outputs": [],
   "source": [
    "class maxAreaSolution():\n",
    "    def maxArea(self, height):\n",
    "            \"\"\"\n",
    "            :type height: List[int]\n",
    "            :rtype: int\n",
    "            \"\"\"\n",
    "            l=0\n",
    "            r=len(height)-1\n",
    "            max_size=-1\n",
    "            while l<r:\n",
    "                h = min(height[r],height[l])\n",
    "                w = r-l\n",
    "                max_size=max(h*w,max_size)\n",
    "                if height[l]<=height[r]:\n",
    "                    l+=1\n",
    "                else:\n",
    "                    r-=1\n",
    "            return max_size\n",
    "\n",
    "# Instantiate solution class\n",
    "ans=maxAreaSolution()\n",
    "\n",
    "input=[1,8,6,2,5,4,8,3,7]\n",
    "\n",
    "# Call solution (self. ... (height))\n",
    "print(ans.maxArea(input))"
   ]
  },
  {
   "cell_type": "code",
   "execution_count": 9,
   "metadata": {},
   "outputs": [
    {
     "name": "stdout",
     "output_type": "stream",
     "text": [
      "49\n"
     ]
    }
   ],
   "source": []
  }
 ],
 "metadata": {
  "kernelspec": {
   "display_name": "main",
   "language": "python",
   "name": "python3"
  },
  "language_info": {
   "codemirror_mode": {
    "name": "ipython",
    "version": 3
   },
   "file_extension": ".py",
   "mimetype": "text/x-python",
   "name": "python",
   "nbconvert_exporter": "python",
   "pygments_lexer": "ipython3",
   "version": "3.10.13"
  }
 },
 "nbformat": 4,
 "nbformat_minor": 2
}
